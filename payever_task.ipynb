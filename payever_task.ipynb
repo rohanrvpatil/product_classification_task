{
 "cells": [
  {
   "cell_type": "code",
   "execution_count": 9,
   "id": "b5d438ac-9f69-4e19-98a2-ddf2bd05d815",
   "metadata": {},
   "outputs": [],
   "source": [
    "import tensorflow as tf\n",
    "import pandas as pd\n",
    "import numpy as np"
   ]
  },
  {
   "cell_type": "code",
   "execution_count": 10,
   "id": "c5677a74-7112-4d34-8997-3a7e626ff908",
   "metadata": {},
   "outputs": [
    {
     "name": "stdout",
     "output_type": "stream",
     "text": [
      "Requirement already satisfied: Faker in d:\\programfiles\\miniconda\\lib\\site-packages (25.2.0)\n",
      "Requirement already satisfied: python-dateutil>=2.4 in d:\\programfiles\\miniconda\\lib\\site-packages (from Faker) (2.9.0.post0)\n",
      "Requirement already satisfied: six>=1.5 in d:\\programfiles\\miniconda\\lib\\site-packages (from python-dateutil>=2.4->Faker) (1.16.0)\n"
     ]
    }
   ],
   "source": [
    "!pip install Faker"
   ]
  },
  {
   "cell_type": "code",
   "execution_count": 11,
   "id": "1bf72287-6031-4e38-afbd-431dd06f731e",
   "metadata": {},
   "outputs": [
    {
     "name": "stdout",
     "output_type": "stream",
     "text": [
      "                   name                                   description  \\\n",
      "0     Air Purifier Task     HEPA air purifier with nor speed settings   \n",
      "1  Fitness Tracker Pull  Wearable fitness tracker with alone features   \n",
      "2   Microwave Oven Push   Countertop microwave oven with just presets   \n",
      "3   Air Purifier Better  HEPA air purifier with middle speed settings   \n",
      "4     Hair Dryer Happen  Professional hair dryer with though settings   \n",
      "\n",
      "     price           category  \n",
      "0   108.73    Home Appliances  \n",
      "1  1515.07  Sports & Outdoors  \n",
      "2   540.26    Home Appliances  \n",
      "3  1739.78    Home Appliances  \n",
      "4  1130.79      Personal Care  \n"
     ]
    }
   ],
   "source": [
    "import random\n",
    "from faker import Faker\n",
    "\n",
    "# Initialize Faker\n",
    "fake = Faker()\n",
    "\n",
    "# Define product categories\n",
    "categories = [\"Electronics\", \"Personal Care\", \"Sports & Outdoors\", \"Home Appliances\", \"Furniture\"]\n",
    "\n",
    "# Define sample product names and descriptions by category\n",
    "product_samples = {\n",
    "    \"Electronics\": [\n",
    "        {\"name\": \"Laptop\", \"description\": \"High-performance laptop with {}-inch display\"},\n",
    "        {\"name\": \"Smartphone\", \"description\": \"Latest model smartphone with {} battery\"},\n",
    "        {\"name\": \"Headphones\", \"description\": \"Noise-cancelling {} headphones\"},\n",
    "        {\"name\": \"Tablet\", \"description\": \"Portable tablet with {}-inch screen\"},\n",
    "        {\"name\": \"Smartwatch\", \"description\": \"Wearable smartwatch with {} features\"}\n",
    "    ],\n",
    "    \"Personal Care\": [\n",
    "        {\"name\": \"Toothbrush\", \"description\": \"Rechargeable electric toothbrush with {} modes\"},\n",
    "        {\"name\": \"Hair Dryer\", \"description\": \"Professional hair dryer with {} settings\"},\n",
    "        {\"name\": \"Electric Shaver\", \"description\": \"Rechargeable electric shaver with {} blades\"},\n",
    "        {\"name\": \"Facial Cleanser\", \"description\": \"Electric facial cleanser with {} speed settings\"},\n",
    "        {\"name\": \"Hair Straightener\", \"description\": \"Ceramic hair straightener with {} temperature settings\"}\n",
    "    ],\n",
    "    \"Sports & Outdoors\": [\n",
    "        {\"name\": \"Yoga Mat\", \"description\": \"Eco-friendly yoga mat with {} surface\"},\n",
    "        {\"name\": \"Running Shoes\", \"description\": \"Lightweight running shoes with {} material\"},\n",
    "        {\"name\": \"Tent\", \"description\": \"Waterproof tent for {} people\"},\n",
    "        {\"name\": \"Fitness Tracker\", \"description\": \"Wearable fitness tracker with {} features\"},\n",
    "        {\"name\": \"Bicycle\", \"description\": \"Mountain bicycle with {} gears\"}\n",
    "    ],\n",
    "    \"Home Appliances\": [\n",
    "        {\"name\": \"Blender\", \"description\": \"High-speed blender with {} settings\"},\n",
    "        {\"name\": \"Coffee Maker\", \"description\": \"Programmable coffee maker with {} capacity\"},\n",
    "        {\"name\": \"Vacuum Cleaner\", \"description\": \"Bagless vacuum cleaner with {} suction power\"},\n",
    "        {\"name\": \"Microwave Oven\", \"description\": \"Countertop microwave oven with {} presets\"},\n",
    "        {\"name\": \"Air Purifier\", \"description\": \"HEPA air purifier with {} speed settings\"}\n",
    "    ],\n",
    "    \"Furniture\": [\n",
    "        {\"name\": \"Desk Chair\", \"description\": \"Ergonomic desk chair with {} support\"},\n",
    "        {\"name\": \"Dining Table\", \"description\": \"Modern dining table with seating for {}\"},\n",
    "        {\"name\": \"Sofa\", \"description\": \"Comfortable sofa with {} cushions\"},\n",
    "        {\"name\": \"Bookshelf\", \"description\": \"Wooden bookshelf with {} shelves\"},\n",
    "        {\"name\": \"Bed Frame\", \"description\": \"King-size bed frame with {} design\"}\n",
    "    ],\n",
    "}\n",
    "\n",
    "# Function to generate a random product\n",
    "def generate_random_product():\n",
    "    category = random.choice(categories)\n",
    "    product_sample = random.choice(product_samples[category])\n",
    "    name = f\"{product_sample['name']} {fake.word().capitalize()}\"\n",
    "    description = product_sample[\"description\"].format(fake.word())\n",
    "    price = round(random.uniform(10.0, 2000.0), 2)\n",
    "    return {\"name\": name, \"description\": description, \"price\": price, \"category\": category}\n",
    "\n",
    "# Generate 10,000 random products\n",
    "products = [generate_random_product() for _ in range(10000)]\n",
    "\n",
    "# Convert to DataFrame\n",
    "df = pd.DataFrame(products)\n",
    "\n",
    "# Display the DataFrame\n",
    "print(df.head())\n",
    "\n",
    "# Save to CSV for further use\n",
    "df.to_csv(\"dummy_products.csv\", index=False)\n"
   ]
  },
  {
   "cell_type": "code",
   "execution_count": 12,
   "id": "293ce57d-5818-486b-bc5a-ea10530c641c",
   "metadata": {},
   "outputs": [
    {
     "data": {
      "text/html": [
       "<div>\n",
       "<style scoped>\n",
       "    .dataframe tbody tr th:only-of-type {\n",
       "        vertical-align: middle;\n",
       "    }\n",
       "\n",
       "    .dataframe tbody tr th {\n",
       "        vertical-align: top;\n",
       "    }\n",
       "\n",
       "    .dataframe thead th {\n",
       "        text-align: right;\n",
       "    }\n",
       "</style>\n",
       "<table border=\"1\" class=\"dataframe\">\n",
       "  <thead>\n",
       "    <tr style=\"text-align: right;\">\n",
       "      <th></th>\n",
       "      <th>name</th>\n",
       "      <th>description</th>\n",
       "      <th>price</th>\n",
       "      <th>category</th>\n",
       "    </tr>\n",
       "  </thead>\n",
       "  <tbody>\n",
       "    <tr>\n",
       "      <th>6508</th>\n",
       "      <td>Facial Cleanser If</td>\n",
       "      <td>Electric facial cleanser with four speed settings</td>\n",
       "      <td>1205.67</td>\n",
       "      <td>Personal Care</td>\n",
       "    </tr>\n",
       "    <tr>\n",
       "      <th>6507</th>\n",
       "      <td>Vacuum Cleaner Hospital</td>\n",
       "      <td>Bagless vacuum cleaner with activity suction p...</td>\n",
       "      <td>98.84</td>\n",
       "      <td>Home Appliances</td>\n",
       "    </tr>\n",
       "    <tr>\n",
       "      <th>6639</th>\n",
       "      <td>Toothbrush Continue</td>\n",
       "      <td>Rechargeable electric toothbrush with sport modes</td>\n",
       "      <td>1549.99</td>\n",
       "      <td>Personal Care</td>\n",
       "    </tr>\n",
       "    <tr>\n",
       "      <th>1662</th>\n",
       "      <td>Hair Dryer Fire</td>\n",
       "      <td>Professional hair dryer with item settings</td>\n",
       "      <td>122.84</td>\n",
       "      <td>Personal Care</td>\n",
       "    </tr>\n",
       "    <tr>\n",
       "      <th>1905</th>\n",
       "      <td>Bicycle Fill</td>\n",
       "      <td>Mountain bicycle with city gears</td>\n",
       "      <td>1250.86</td>\n",
       "      <td>Sports &amp; Outdoors</td>\n",
       "    </tr>\n",
       "  </tbody>\n",
       "</table>\n",
       "</div>"
      ],
      "text/plain": [
       "                         name  \\\n",
       "6508       Facial Cleanser If   \n",
       "6507  Vacuum Cleaner Hospital   \n",
       "6639      Toothbrush Continue   \n",
       "1662          Hair Dryer Fire   \n",
       "1905             Bicycle Fill   \n",
       "\n",
       "                                            description    price  \\\n",
       "6508  Electric facial cleanser with four speed settings  1205.67   \n",
       "6507  Bagless vacuum cleaner with activity suction p...    98.84   \n",
       "6639  Rechargeable electric toothbrush with sport modes  1549.99   \n",
       "1662         Professional hair dryer with item settings   122.84   \n",
       "1905                   Mountain bicycle with city gears  1250.86   \n",
       "\n",
       "               category  \n",
       "6508      Personal Care  \n",
       "6507    Home Appliances  \n",
       "6639      Personal Care  \n",
       "1662      Personal Care  \n",
       "1905  Sports & Outdoors  "
      ]
     },
     "execution_count": 12,
     "metadata": {},
     "output_type": "execute_result"
    }
   ],
   "source": [
    "df.sample(5)"
   ]
  },
  {
   "cell_type": "code",
   "execution_count": 13,
   "id": "0c314b8a-2061-465a-8ce2-fd733ba67a04",
   "metadata": {},
   "outputs": [],
   "source": [
    "#converting to lowercase\n",
    "#removing special characters, punctuation\n",
    "\n",
    "import re\n",
    "\n",
    "def clean_text(text):\n",
    "    text = text.lower() \n",
    "    text = re.sub(r'[^\\w\\s]', '', text) \n",
    "    return text\n",
    "\n",
    "df['name'] = df['name'].apply(clean_text)\n",
    "df['description'] = df['description'].apply(clean_text)"
   ]
  },
  {
   "cell_type": "code",
   "execution_count": 14,
   "id": "faf4c646-2503-449d-b78a-29b5f603eecd",
   "metadata": {
    "scrolled": true
   },
   "outputs": [
    {
     "name": "stdout",
     "output_type": "stream",
     "text": [
      "Requirement already satisfied: nltk in d:\\programfiles\\miniconda\\lib\\site-packages (3.8.1)\n",
      "Requirement already satisfied: click in d:\\programfiles\\miniconda\\lib\\site-packages (from nltk) (8.1.7)\n",
      "Requirement already satisfied: joblib in d:\\programfiles\\miniconda\\lib\\site-packages (from nltk) (1.4.2)\n",
      "Requirement already satisfied: regex>=2021.8.3 in d:\\programfiles\\miniconda\\lib\\site-packages (from nltk) (2024.5.15)\n",
      "Requirement already satisfied: tqdm in d:\\programfiles\\miniconda\\lib\\site-packages (from nltk) (4.65.0)\n",
      "Requirement already satisfied: colorama in d:\\programfiles\\miniconda\\lib\\site-packages (from click->nltk) (0.4.6)\n"
     ]
    }
   ],
   "source": [
    "!pip install nltk"
   ]
  },
  {
   "cell_type": "code",
   "execution_count": 15,
   "id": "0f70119c-7eb7-48c8-af16-51717e37e613",
   "metadata": {},
   "outputs": [
    {
     "name": "stderr",
     "output_type": "stream",
     "text": [
      "[nltk_data] Downloading package punkt to\n",
      "[nltk_data]     C:\\Users\\Admin\\AppData\\Roaming\\nltk_data...\n",
      "[nltk_data]   Package punkt is already up-to-date!\n"
     ]
    }
   ],
   "source": [
    "#tokenizing data\n",
    "import nltk\n",
    "nltk.download('punkt')\n",
    "from nltk.tokenize import word_tokenize\n",
    "\n",
    "df['name'] = df['name'].apply(word_tokenize)\n",
    "df['description'] = df['description'].apply(word_tokenize)"
   ]
  },
  {
   "cell_type": "code",
   "execution_count": 16,
   "id": "dbd1a324-2893-4df9-b2f5-7b81144e60e3",
   "metadata": {},
   "outputs": [
    {
     "data": {
      "text/html": [
       "<div>\n",
       "<style scoped>\n",
       "    .dataframe tbody tr th:only-of-type {\n",
       "        vertical-align: middle;\n",
       "    }\n",
       "\n",
       "    .dataframe tbody tr th {\n",
       "        vertical-align: top;\n",
       "    }\n",
       "\n",
       "    .dataframe thead th {\n",
       "        text-align: right;\n",
       "    }\n",
       "</style>\n",
       "<table border=\"1\" class=\"dataframe\">\n",
       "  <thead>\n",
       "    <tr style=\"text-align: right;\">\n",
       "      <th></th>\n",
       "      <th>name</th>\n",
       "      <th>description</th>\n",
       "      <th>price</th>\n",
       "      <th>category</th>\n",
       "    </tr>\n",
       "  </thead>\n",
       "  <tbody>\n",
       "    <tr>\n",
       "      <th>0</th>\n",
       "      <td>[air, purifier, task]</td>\n",
       "      <td>[hepa, air, purifier, with, nor, speed, settings]</td>\n",
       "      <td>108.73</td>\n",
       "      <td>Home Appliances</td>\n",
       "    </tr>\n",
       "    <tr>\n",
       "      <th>1</th>\n",
       "      <td>[fitness, tracker, pull]</td>\n",
       "      <td>[wearable, fitness, tracker, with, alone, feat...</td>\n",
       "      <td>1515.07</td>\n",
       "      <td>Sports &amp; Outdoors</td>\n",
       "    </tr>\n",
       "    <tr>\n",
       "      <th>2</th>\n",
       "      <td>[microwave, oven, push]</td>\n",
       "      <td>[countertop, microwave, oven, with, just, pres...</td>\n",
       "      <td>540.26</td>\n",
       "      <td>Home Appliances</td>\n",
       "    </tr>\n",
       "    <tr>\n",
       "      <th>3</th>\n",
       "      <td>[air, purifier, better]</td>\n",
       "      <td>[hepa, air, purifier, with, middle, speed, set...</td>\n",
       "      <td>1739.78</td>\n",
       "      <td>Home Appliances</td>\n",
       "    </tr>\n",
       "    <tr>\n",
       "      <th>4</th>\n",
       "      <td>[hair, dryer, happen]</td>\n",
       "      <td>[professional, hair, dryer, with, though, sett...</td>\n",
       "      <td>1130.79</td>\n",
       "      <td>Personal Care</td>\n",
       "    </tr>\n",
       "  </tbody>\n",
       "</table>\n",
       "</div>"
      ],
      "text/plain": [
       "                       name  \\\n",
       "0     [air, purifier, task]   \n",
       "1  [fitness, tracker, pull]   \n",
       "2   [microwave, oven, push]   \n",
       "3   [air, purifier, better]   \n",
       "4     [hair, dryer, happen]   \n",
       "\n",
       "                                         description    price  \\\n",
       "0  [hepa, air, purifier, with, nor, speed, settings]   108.73   \n",
       "1  [wearable, fitness, tracker, with, alone, feat...  1515.07   \n",
       "2  [countertop, microwave, oven, with, just, pres...   540.26   \n",
       "3  [hepa, air, purifier, with, middle, speed, set...  1739.78   \n",
       "4  [professional, hair, dryer, with, though, sett...  1130.79   \n",
       "\n",
       "            category  \n",
       "0    Home Appliances  \n",
       "1  Sports & Outdoors  \n",
       "2    Home Appliances  \n",
       "3    Home Appliances  \n",
       "4      Personal Care  "
      ]
     },
     "execution_count": 16,
     "metadata": {},
     "output_type": "execute_result"
    }
   ],
   "source": [
    "df.head()"
   ]
  },
  {
   "cell_type": "code",
   "execution_count": 17,
   "id": "eb6e017f-0ee4-4846-9f92-b5ef747c84f4",
   "metadata": {},
   "outputs": [
    {
     "name": "stderr",
     "output_type": "stream",
     "text": [
      "[nltk_data] Downloading package stopwords to\n",
      "[nltk_data]     C:\\Users\\Admin\\AppData\\Roaming\\nltk_data...\n",
      "[nltk_data]   Package stopwords is already up-to-date!\n"
     ]
    }
   ],
   "source": [
    "#removing stopwords\n",
    "from nltk.corpus import stopwords\n",
    "nltk.download('stopwords')\n",
    "\n",
    "stop_words = set(stopwords.words('english'))\n",
    "\n",
    "def remove_stop_words(tokens):\n",
    "    return [word for word in tokens if word not in stop_words]\n",
    "\n",
    "df['name'] = df['name'].apply(remove_stop_words)\n",
    "df['description'] = df['description'].apply(remove_stop_words)"
   ]
  },
  {
   "cell_type": "code",
   "execution_count": 18,
   "id": "16e2bbca-731d-4b57-ba8e-0c4d141df4d5",
   "metadata": {},
   "outputs": [
    {
     "data": {
      "text/html": [
       "<div>\n",
       "<style scoped>\n",
       "    .dataframe tbody tr th:only-of-type {\n",
       "        vertical-align: middle;\n",
       "    }\n",
       "\n",
       "    .dataframe tbody tr th {\n",
       "        vertical-align: top;\n",
       "    }\n",
       "\n",
       "    .dataframe thead th {\n",
       "        text-align: right;\n",
       "    }\n",
       "</style>\n",
       "<table border=\"1\" class=\"dataframe\">\n",
       "  <thead>\n",
       "    <tr style=\"text-align: right;\">\n",
       "      <th></th>\n",
       "      <th>name</th>\n",
       "      <th>description</th>\n",
       "      <th>price</th>\n",
       "      <th>category</th>\n",
       "    </tr>\n",
       "  </thead>\n",
       "  <tbody>\n",
       "    <tr>\n",
       "      <th>0</th>\n",
       "      <td>[air, purifier, task]</td>\n",
       "      <td>[hepa, air, purifier, speed, settings]</td>\n",
       "      <td>108.73</td>\n",
       "      <td>Home Appliances</td>\n",
       "    </tr>\n",
       "    <tr>\n",
       "      <th>1</th>\n",
       "      <td>[fitness, tracker, pull]</td>\n",
       "      <td>[wearable, fitness, tracker, alone, features]</td>\n",
       "      <td>1515.07</td>\n",
       "      <td>Sports &amp; Outdoors</td>\n",
       "    </tr>\n",
       "    <tr>\n",
       "      <th>2</th>\n",
       "      <td>[microwave, oven, push]</td>\n",
       "      <td>[countertop, microwave, oven, presets]</td>\n",
       "      <td>540.26</td>\n",
       "      <td>Home Appliances</td>\n",
       "    </tr>\n",
       "    <tr>\n",
       "      <th>3</th>\n",
       "      <td>[air, purifier, better]</td>\n",
       "      <td>[hepa, air, purifier, middle, speed, settings]</td>\n",
       "      <td>1739.78</td>\n",
       "      <td>Home Appliances</td>\n",
       "    </tr>\n",
       "    <tr>\n",
       "      <th>4</th>\n",
       "      <td>[hair, dryer, happen]</td>\n",
       "      <td>[professional, hair, dryer, though, settings]</td>\n",
       "      <td>1130.79</td>\n",
       "      <td>Personal Care</td>\n",
       "    </tr>\n",
       "  </tbody>\n",
       "</table>\n",
       "</div>"
      ],
      "text/plain": [
       "                       name                                     description  \\\n",
       "0     [air, purifier, task]          [hepa, air, purifier, speed, settings]   \n",
       "1  [fitness, tracker, pull]   [wearable, fitness, tracker, alone, features]   \n",
       "2   [microwave, oven, push]          [countertop, microwave, oven, presets]   \n",
       "3   [air, purifier, better]  [hepa, air, purifier, middle, speed, settings]   \n",
       "4     [hair, dryer, happen]   [professional, hair, dryer, though, settings]   \n",
       "\n",
       "     price           category  \n",
       "0   108.73    Home Appliances  \n",
       "1  1515.07  Sports & Outdoors  \n",
       "2   540.26    Home Appliances  \n",
       "3  1739.78    Home Appliances  \n",
       "4  1130.79      Personal Care  "
      ]
     },
     "execution_count": 18,
     "metadata": {},
     "output_type": "execute_result"
    }
   ],
   "source": [
    "df.head()"
   ]
  },
  {
   "cell_type": "code",
   "execution_count": 19,
   "id": "1ae3539c-24a1-4d58-abdc-55c1a6c9d9b9",
   "metadata": {},
   "outputs": [
    {
     "name": "stderr",
     "output_type": "stream",
     "text": [
      "[nltk_data] Downloading package wordnet to\n",
      "[nltk_data]     C:\\Users\\Admin\\AppData\\Roaming\\nltk_data...\n",
      "[nltk_data]   Package wordnet is already up-to-date!\n"
     ]
    }
   ],
   "source": [
    "#lemmatization - converting words to their root word or base form\n",
    "from nltk.stem import WordNetLemmatizer\n",
    "nltk.download('wordnet')\n",
    "\n",
    "lemmatizer = WordNetLemmatizer()\n",
    "\n",
    "def lemmatize_tokens(tokens):\n",
    "    return [lemmatizer.lemmatize(word) for word in tokens]\n",
    "\n",
    "df['name'] = df['name'].apply(lemmatize_tokens)\n",
    "df['description'] = df['description'].apply(lemmatize_tokens)"
   ]
  },
  {
   "cell_type": "code",
   "execution_count": 20,
   "id": "26346d9b-2a6f-4ea7-87d9-cb03d72e5fa9",
   "metadata": {},
   "outputs": [
    {
     "data": {
      "text/html": [
       "<div>\n",
       "<style scoped>\n",
       "    .dataframe tbody tr th:only-of-type {\n",
       "        vertical-align: middle;\n",
       "    }\n",
       "\n",
       "    .dataframe tbody tr th {\n",
       "        vertical-align: top;\n",
       "    }\n",
       "\n",
       "    .dataframe thead th {\n",
       "        text-align: right;\n",
       "    }\n",
       "</style>\n",
       "<table border=\"1\" class=\"dataframe\">\n",
       "  <thead>\n",
       "    <tr style=\"text-align: right;\">\n",
       "      <th></th>\n",
       "      <th>name</th>\n",
       "      <th>description</th>\n",
       "      <th>price</th>\n",
       "      <th>category</th>\n",
       "    </tr>\n",
       "  </thead>\n",
       "  <tbody>\n",
       "    <tr>\n",
       "      <th>0</th>\n",
       "      <td>[air, purifier, task]</td>\n",
       "      <td>[hepa, air, purifier, speed, setting]</td>\n",
       "      <td>108.73</td>\n",
       "      <td>Home Appliances</td>\n",
       "    </tr>\n",
       "    <tr>\n",
       "      <th>1</th>\n",
       "      <td>[fitness, tracker, pull]</td>\n",
       "      <td>[wearable, fitness, tracker, alone, feature]</td>\n",
       "      <td>1515.07</td>\n",
       "      <td>Sports &amp; Outdoors</td>\n",
       "    </tr>\n",
       "    <tr>\n",
       "      <th>2</th>\n",
       "      <td>[microwave, oven, push]</td>\n",
       "      <td>[countertop, microwave, oven, presets]</td>\n",
       "      <td>540.26</td>\n",
       "      <td>Home Appliances</td>\n",
       "    </tr>\n",
       "    <tr>\n",
       "      <th>3</th>\n",
       "      <td>[air, purifier, better]</td>\n",
       "      <td>[hepa, air, purifier, middle, speed, setting]</td>\n",
       "      <td>1739.78</td>\n",
       "      <td>Home Appliances</td>\n",
       "    </tr>\n",
       "    <tr>\n",
       "      <th>4</th>\n",
       "      <td>[hair, dryer, happen]</td>\n",
       "      <td>[professional, hair, dryer, though, setting]</td>\n",
       "      <td>1130.79</td>\n",
       "      <td>Personal Care</td>\n",
       "    </tr>\n",
       "  </tbody>\n",
       "</table>\n",
       "</div>"
      ],
      "text/plain": [
       "                       name                                    description  \\\n",
       "0     [air, purifier, task]          [hepa, air, purifier, speed, setting]   \n",
       "1  [fitness, tracker, pull]   [wearable, fitness, tracker, alone, feature]   \n",
       "2   [microwave, oven, push]         [countertop, microwave, oven, presets]   \n",
       "3   [air, purifier, better]  [hepa, air, purifier, middle, speed, setting]   \n",
       "4     [hair, dryer, happen]   [professional, hair, dryer, though, setting]   \n",
       "\n",
       "     price           category  \n",
       "0   108.73    Home Appliances  \n",
       "1  1515.07  Sports & Outdoors  \n",
       "2   540.26    Home Appliances  \n",
       "3  1739.78    Home Appliances  \n",
       "4  1130.79      Personal Care  "
      ]
     },
     "execution_count": 20,
     "metadata": {},
     "output_type": "execute_result"
    }
   ],
   "source": [
    "df.head()"
   ]
  },
  {
   "cell_type": "code",
   "execution_count": 21,
   "id": "d8fe7f4f-1aec-4e28-a507-977418dc7085",
   "metadata": {},
   "outputs": [],
   "source": [
    "from tensorflow.keras.preprocessing.text import Tokenizer\n",
    "from tensorflow.keras.preprocessing.sequence import pad_sequences\n",
    "\n",
    "tokenizer = Tokenizer()\n",
    "\n",
    "df['name'] = df['name'].astype(str)\n",
    "df['description'] = df['description'].astype(str)\n",
    "\n",
    "# Concatenate text data from both columns\n",
    "all_text = (df['name'].apply(lambda x: ' '.join(x)) + ' ' +\n",
    "            df['description'].apply(lambda x: ' '.join(x)))\n",
    "tokenizer.fit_on_texts(all_text)\n",
    "\n",
    "# Convert text data in each column to sequences of integers\n",
    "sequences_col1 = tokenizer.texts_to_sequences(df['name'].apply(lambda x: ' '.join(x)))\n",
    "sequences_col2 = tokenizer.texts_to_sequences(df['description'].apply(lambda x: ' '.join(x)))\n",
    "\n",
    "# Pad sequences to ensure uniform length\n",
    "max_length = max(max(len(seq) for seq in sequences_col1), max(len(seq) for seq in sequences_col2))\n",
    "padded_sequences_col1 = pad_sequences(sequences_col1, maxlen=max_length, padding='post')\n",
    "padded_sequences_col2 = pad_sequences(sequences_col2, maxlen=max_length, padding='post')\n",
    "\n",
    "# Replace original text data in the columns with padded sequences\n",
    "df['name'] = padded_sequences_col1.tolist()\n",
    "df['description'] = padded_sequences_col2.tolist()"
   ]
  },
  {
   "cell_type": "code",
   "execution_count": 22,
   "id": "919b5b9f-fc5f-4381-bad7-96c63ec380ef",
   "metadata": {},
   "outputs": [
    {
     "data": {
      "text/html": [
       "<div>\n",
       "<style scoped>\n",
       "    .dataframe tbody tr th:only-of-type {\n",
       "        vertical-align: middle;\n",
       "    }\n",
       "\n",
       "    .dataframe tbody tr th {\n",
       "        vertical-align: top;\n",
       "    }\n",
       "\n",
       "    .dataframe thead th {\n",
       "        text-align: right;\n",
       "    }\n",
       "</style>\n",
       "<table border=\"1\" class=\"dataframe\">\n",
       "  <thead>\n",
       "    <tr style=\"text-align: right;\">\n",
       "      <th></th>\n",
       "      <th>name</th>\n",
       "      <th>description</th>\n",
       "      <th>price</th>\n",
       "      <th>category</th>\n",
       "    </tr>\n",
       "  </thead>\n",
       "  <tbody>\n",
       "    <tr>\n",
       "      <th>0</th>\n",
       "      <td>[1, 3, 6, 4, 1, 1, 13, 19, 4, 6, 17, 6, 2, 4, ...</td>\n",
       "      <td>[1, 12, 2, 13, 3, 1, 1, 3, 6, 4, 1, 1, 13, 19,...</td>\n",
       "      <td>108.73</td>\n",
       "      <td>Home Appliances</td>\n",
       "    </tr>\n",
       "    <tr>\n",
       "      <th>1</th>\n",
       "      <td>[1, 17, 6, 5, 7, 2, 9, 9, 1, 1, 5, 4, 3, 10, 2...</td>\n",
       "      <td>[1, 21, 2, 3, 4, 3, 18, 11, 2, 1, 1, 17, 6, 5,...</td>\n",
       "      <td>1515.07</td>\n",
       "      <td>Sports &amp; Outdoors</td>\n",
       "    </tr>\n",
       "    <tr>\n",
       "      <th>2</th>\n",
       "      <td>[1, 14, 6, 10, 4, 8, 21, 3, 23, 2, 1, 1, 8, 23...</td>\n",
       "      <td>[1, 10, 8, 19, 7, 5, 2, 4, 5, 8, 13, 1, 1, 14,...</td>\n",
       "      <td>540.26</td>\n",
       "      <td>Home Appliances</td>\n",
       "    </tr>\n",
       "    <tr>\n",
       "      <th>3</th>\n",
       "      <td>[1, 3, 6, 4, 1, 1, 13, 19, 4, 6, 17, 6, 2, 4, ...</td>\n",
       "      <td>[1, 12, 2, 13, 3, 1, 1, 3, 6, 4, 1, 1, 13, 19,...</td>\n",
       "      <td>1739.78</td>\n",
       "      <td>Home Appliances</td>\n",
       "    </tr>\n",
       "    <tr>\n",
       "      <th>4</th>\n",
       "      <td>[1, 12, 3, 6, 4, 1, 1, 16, 4, 20, 2, 4, 1, 1, ...</td>\n",
       "      <td>[1, 13, 4, 8, 17, 2, 9, 9, 6, 8, 7, 3, 11, 1, ...</td>\n",
       "      <td>1130.79</td>\n",
       "      <td>Personal Care</td>\n",
       "    </tr>\n",
       "  </tbody>\n",
       "</table>\n",
       "</div>"
      ],
      "text/plain": [
       "                                                name  \\\n",
       "0  [1, 3, 6, 4, 1, 1, 13, 19, 4, 6, 17, 6, 2, 4, ...   \n",
       "1  [1, 17, 6, 5, 7, 2, 9, 9, 1, 1, 5, 4, 3, 10, 2...   \n",
       "2  [1, 14, 6, 10, 4, 8, 21, 3, 23, 2, 1, 1, 8, 23...   \n",
       "3  [1, 3, 6, 4, 1, 1, 13, 19, 4, 6, 17, 6, 2, 4, ...   \n",
       "4  [1, 12, 3, 6, 4, 1, 1, 16, 4, 20, 2, 4, 1, 1, ...   \n",
       "\n",
       "                                         description    price  \\\n",
       "0  [1, 12, 2, 13, 3, 1, 1, 3, 6, 4, 1, 1, 13, 19,...   108.73   \n",
       "1  [1, 21, 2, 3, 4, 3, 18, 11, 2, 1, 1, 17, 6, 5,...  1515.07   \n",
       "2  [1, 10, 8, 19, 7, 5, 2, 4, 5, 8, 13, 1, 1, 14,...   540.26   \n",
       "3  [1, 12, 2, 13, 3, 1, 1, 3, 6, 4, 1, 1, 13, 19,...  1739.78   \n",
       "4  [1, 13, 4, 8, 17, 2, 9, 9, 6, 8, 7, 3, 11, 1, ...  1130.79   \n",
       "\n",
       "            category  \n",
       "0    Home Appliances  \n",
       "1  Sports & Outdoors  \n",
       "2    Home Appliances  \n",
       "3    Home Appliances  \n",
       "4      Personal Care  "
      ]
     },
     "execution_count": 22,
     "metadata": {},
     "output_type": "execute_result"
    }
   ],
   "source": [
    "df.head()"
   ]
  },
  {
   "cell_type": "code",
   "execution_count": 23,
   "id": "d2b91ac6-5df6-4d1c-9c65-2881abcd1a06",
   "metadata": {},
   "outputs": [],
   "source": [
    "from sklearn.preprocessing import LabelEncoder\n",
    "\n",
    "label_encoder = LabelEncoder()\n",
    "df['category'] = label_encoder.fit_transform(df['category'])\n",
    "y = df['category']"
   ]
  },
  {
   "cell_type": "code",
   "execution_count": 24,
   "id": "5eff1774-d462-4d24-a21d-4328cc0216dc",
   "metadata": {},
   "outputs": [],
   "source": [
    "from sklearn.model_selection import train_test_split\n",
    "from sklearn.preprocessing import LabelEncoder, MinMaxScaler\n",
    "\n",
    "scaler = MinMaxScaler(feature_range=(1, 10))\n",
    "df['price'] = scaler.fit_transform(df[['price']])\n",
    "df['combined'] = df.apply(lambda row: row['name'] + row['description'] + [int(row['price'])], axis=1)\n",
    "\n",
    "max_seq_length = max(df['combined'].apply(len))\n",
    "X = pad_sequences(df['combined'], maxlen=max_seq_length, padding='post')\n",
    "\n",
    "X_train, X_test, y_train, y_test = train_test_split(X, y, test_size=0.2, random_state=42)"
   ]
  },
  {
   "cell_type": "code",
   "execution_count": 25,
   "id": "204aa94f-a8c6-41aa-a7ca-053aee794c64",
   "metadata": {},
   "outputs": [
    {
     "data": {
      "text/html": [
       "<div>\n",
       "<style scoped>\n",
       "    .dataframe tbody tr th:only-of-type {\n",
       "        vertical-align: middle;\n",
       "    }\n",
       "\n",
       "    .dataframe tbody tr th {\n",
       "        vertical-align: top;\n",
       "    }\n",
       "\n",
       "    .dataframe thead th {\n",
       "        text-align: right;\n",
       "    }\n",
       "</style>\n",
       "<table border=\"1\" class=\"dataframe\">\n",
       "  <thead>\n",
       "    <tr style=\"text-align: right;\">\n",
       "      <th></th>\n",
       "      <th>name</th>\n",
       "      <th>description</th>\n",
       "      <th>price</th>\n",
       "      <th>category</th>\n",
       "      <th>combined</th>\n",
       "    </tr>\n",
       "  </thead>\n",
       "  <tbody>\n",
       "    <tr>\n",
       "      <th>0</th>\n",
       "      <td>[1, 3, 6, 4, 1, 1, 13, 19, 4, 6, 17, 6, 2, 4, ...</td>\n",
       "      <td>[1, 12, 2, 13, 3, 1, 1, 3, 6, 4, 1, 1, 13, 19,...</td>\n",
       "      <td>1.445791</td>\n",
       "      <td>2</td>\n",
       "      <td>[1, 3, 6, 4, 1, 1, 13, 19, 4, 6, 17, 6, 2, 4, ...</td>\n",
       "    </tr>\n",
       "    <tr>\n",
       "      <th>1</th>\n",
       "      <td>[1, 17, 6, 5, 7, 2, 9, 9, 1, 1, 5, 4, 3, 10, 2...</td>\n",
       "      <td>[1, 21, 2, 3, 4, 3, 18, 11, 2, 1, 1, 17, 6, 5,...</td>\n",
       "      <td>7.806730</td>\n",
       "      <td>4</td>\n",
       "      <td>[1, 17, 6, 5, 7, 2, 9, 9, 1, 1, 5, 4, 3, 10, 2...</td>\n",
       "    </tr>\n",
       "    <tr>\n",
       "      <th>2</th>\n",
       "      <td>[1, 14, 6, 10, 4, 8, 21, 3, 23, 2, 1, 1, 8, 23...</td>\n",
       "      <td>[1, 10, 8, 19, 7, 5, 2, 4, 5, 8, 13, 1, 1, 14,...</td>\n",
       "      <td>3.397621</td>\n",
       "      <td>2</td>\n",
       "      <td>[1, 14, 6, 10, 4, 8, 21, 3, 23, 2, 1, 1, 8, 23...</td>\n",
       "    </tr>\n",
       "    <tr>\n",
       "      <th>3</th>\n",
       "      <td>[1, 3, 6, 4, 1, 1, 13, 19, 4, 6, 17, 6, 2, 4, ...</td>\n",
       "      <td>[1, 12, 2, 13, 3, 1, 1, 3, 6, 4, 1, 1, 13, 19,...</td>\n",
       "      <td>8.823104</td>\n",
       "      <td>2</td>\n",
       "      <td>[1, 3, 6, 4, 1, 1, 13, 19, 4, 6, 17, 6, 2, 4, ...</td>\n",
       "    </tr>\n",
       "    <tr>\n",
       "      <th>4</th>\n",
       "      <td>[1, 12, 3, 6, 4, 1, 1, 16, 4, 20, 2, 4, 1, 1, ...</td>\n",
       "      <td>[1, 13, 4, 8, 17, 2, 9, 9, 6, 8, 7, 3, 11, 1, ...</td>\n",
       "      <td>6.068615</td>\n",
       "      <td>3</td>\n",
       "      <td>[1, 12, 3, 6, 4, 1, 1, 16, 4, 20, 2, 4, 1, 1, ...</td>\n",
       "    </tr>\n",
       "  </tbody>\n",
       "</table>\n",
       "</div>"
      ],
      "text/plain": [
       "                                                name  \\\n",
       "0  [1, 3, 6, 4, 1, 1, 13, 19, 4, 6, 17, 6, 2, 4, ...   \n",
       "1  [1, 17, 6, 5, 7, 2, 9, 9, 1, 1, 5, 4, 3, 10, 2...   \n",
       "2  [1, 14, 6, 10, 4, 8, 21, 3, 23, 2, 1, 1, 8, 23...   \n",
       "3  [1, 3, 6, 4, 1, 1, 13, 19, 4, 6, 17, 6, 2, 4, ...   \n",
       "4  [1, 12, 3, 6, 4, 1, 1, 16, 4, 20, 2, 4, 1, 1, ...   \n",
       "\n",
       "                                         description     price  category  \\\n",
       "0  [1, 12, 2, 13, 3, 1, 1, 3, 6, 4, 1, 1, 13, 19,...  1.445791         2   \n",
       "1  [1, 21, 2, 3, 4, 3, 18, 11, 2, 1, 1, 17, 6, 5,...  7.806730         4   \n",
       "2  [1, 10, 8, 19, 7, 5, 2, 4, 5, 8, 13, 1, 1, 14,...  3.397621         2   \n",
       "3  [1, 12, 2, 13, 3, 1, 1, 3, 6, 4, 1, 1, 13, 19,...  8.823104         2   \n",
       "4  [1, 13, 4, 8, 17, 2, 9, 9, 6, 8, 7, 3, 11, 1, ...  6.068615         3   \n",
       "\n",
       "                                            combined  \n",
       "0  [1, 3, 6, 4, 1, 1, 13, 19, 4, 6, 17, 6, 2, 4, ...  \n",
       "1  [1, 17, 6, 5, 7, 2, 9, 9, 1, 1, 5, 4, 3, 10, 2...  \n",
       "2  [1, 14, 6, 10, 4, 8, 21, 3, 23, 2, 1, 1, 8, 23...  \n",
       "3  [1, 3, 6, 4, 1, 1, 13, 19, 4, 6, 17, 6, 2, 4, ...  \n",
       "4  [1, 12, 3, 6, 4, 1, 1, 16, 4, 20, 2, 4, 1, 1, ...  "
      ]
     },
     "execution_count": 25,
     "metadata": {},
     "output_type": "execute_result"
    }
   ],
   "source": [
    "df.head()"
   ]
  },
  {
   "cell_type": "code",
   "execution_count": 26,
   "id": "7334d537-a3a0-49f8-9306-c0ad408c81bf",
   "metadata": {},
   "outputs": [
    {
     "name": "stderr",
     "output_type": "stream",
     "text": [
      "D:\\ProgramFiles\\Miniconda\\Lib\\site-packages\\keras\\src\\layers\\core\\embedding.py:90: UserWarning: Argument `input_length` is deprecated. Just remove it.\n",
      "  warnings.warn(\n"
     ]
    }
   ],
   "source": [
    "import tensorflow as tf\n",
    "from tensorflow.keras.models import Sequential\n",
    "from tensorflow.keras.layers import Dense, Dropout, Input, BatchNormalization, Embedding, LSTM, Flatten\n",
    "from tensorflow.keras.regularizers import l2\n",
    "\n",
    "model = Sequential([\n",
    "    Embedding(input_dim=100, output_dim=50, input_length=max_seq_length),\n",
    "    Flatten(),\n",
    "    Dense(64, activation='relu', kernel_regularizer=l2(0.01)),\n",
    "    BatchNormalization(),\n",
    "    Dropout(0.5),\n",
    "    Dense(32, activation='relu', kernel_regularizer=l2(0.01)),\n",
    "    BatchNormalization(),\n",
    "    Dropout(0.5),\n",
    "    Dense(len(label_encoder.classes_), activation='softmax')\n",
    "])\n",
    "\n",
    "# Use 'categorical_crossentropy' for multiclass\n",
    "model.compile(optimizer='adam',\n",
    "              loss='sparse_categorical_crossentropy',\n",
    "              metrics=['accuracy'])\n"
   ]
  },
  {
   "cell_type": "code",
   "execution_count": 34,
   "id": "15074a0c-af1f-4f3f-b4ae-dc85a8796167",
   "metadata": {},
   "outputs": [
    {
     "data": {
      "text/html": [
       "<pre style=\"white-space:pre;overflow-x:auto;line-height:normal;font-family:Menlo,'DejaVu Sans Mono',consolas,'Courier New',monospace\"><span style=\"font-weight: bold\">Model: \"sequential\"</span>\n",
       "</pre>\n"
      ],
      "text/plain": [
       "\u001b[1mModel: \"sequential\"\u001b[0m\n"
      ]
     },
     "metadata": {},
     "output_type": "display_data"
    },
    {
     "data": {
      "text/html": [
       "<pre style=\"white-space:pre;overflow-x:auto;line-height:normal;font-family:Menlo,'DejaVu Sans Mono',consolas,'Courier New',monospace\">┏━━━━━━━━━━━━━━━━━━━━━━━━━━━━━━━━━━━━━━┳━━━━━━━━━━━━━━━━━━━━━━━━━━━━━┳━━━━━━━━━━━━━━━━━┓\n",
       "┃<span style=\"font-weight: bold\"> Layer (type)                         </span>┃<span style=\"font-weight: bold\"> Output Shape                </span>┃<span style=\"font-weight: bold\">         Param # </span>┃\n",
       "┡━━━━━━━━━━━━━━━━━━━━━━━━━━━━━━━━━━━━━━╇━━━━━━━━━━━━━━━━━━━━━━━━━━━━━╇━━━━━━━━━━━━━━━━━┩\n",
       "│ embedding (<span style=\"color: #0087ff; text-decoration-color: #0087ff\">Embedding</span>)                │ (<span style=\"color: #00af00; text-decoration-color: #00af00\">128</span>, <span style=\"color: #00af00; text-decoration-color: #00af00\">135</span>, <span style=\"color: #00af00; text-decoration-color: #00af00\">50</span>)              │           <span style=\"color: #00af00; text-decoration-color: #00af00\">5,000</span> │\n",
       "├──────────────────────────────────────┼─────────────────────────────┼─────────────────┤\n",
       "│ flatten (<span style=\"color: #0087ff; text-decoration-color: #0087ff\">Flatten</span>)                    │ (<span style=\"color: #00af00; text-decoration-color: #00af00\">128</span>, <span style=\"color: #00af00; text-decoration-color: #00af00\">6750</span>)                 │               <span style=\"color: #00af00; text-decoration-color: #00af00\">0</span> │\n",
       "├──────────────────────────────────────┼─────────────────────────────┼─────────────────┤\n",
       "│ dense (<span style=\"color: #0087ff; text-decoration-color: #0087ff\">Dense</span>)                        │ (<span style=\"color: #00af00; text-decoration-color: #00af00\">128</span>, <span style=\"color: #00af00; text-decoration-color: #00af00\">64</span>)                   │         <span style=\"color: #00af00; text-decoration-color: #00af00\">432,064</span> │\n",
       "├──────────────────────────────────────┼─────────────────────────────┼─────────────────┤\n",
       "│ batch_normalization                  │ (<span style=\"color: #00af00; text-decoration-color: #00af00\">128</span>, <span style=\"color: #00af00; text-decoration-color: #00af00\">64</span>)                   │             <span style=\"color: #00af00; text-decoration-color: #00af00\">256</span> │\n",
       "│ (<span style=\"color: #0087ff; text-decoration-color: #0087ff\">BatchNormalization</span>)                 │                             │                 │\n",
       "├──────────────────────────────────────┼─────────────────────────────┼─────────────────┤\n",
       "│ dropout (<span style=\"color: #0087ff; text-decoration-color: #0087ff\">Dropout</span>)                    │ (<span style=\"color: #00af00; text-decoration-color: #00af00\">128</span>, <span style=\"color: #00af00; text-decoration-color: #00af00\">64</span>)                   │               <span style=\"color: #00af00; text-decoration-color: #00af00\">0</span> │\n",
       "├──────────────────────────────────────┼─────────────────────────────┼─────────────────┤\n",
       "│ dense_1 (<span style=\"color: #0087ff; text-decoration-color: #0087ff\">Dense</span>)                      │ (<span style=\"color: #00af00; text-decoration-color: #00af00\">128</span>, <span style=\"color: #00af00; text-decoration-color: #00af00\">32</span>)                   │           <span style=\"color: #00af00; text-decoration-color: #00af00\">2,080</span> │\n",
       "├──────────────────────────────────────┼─────────────────────────────┼─────────────────┤\n",
       "│ batch_normalization_1                │ (<span style=\"color: #00af00; text-decoration-color: #00af00\">128</span>, <span style=\"color: #00af00; text-decoration-color: #00af00\">32</span>)                   │             <span style=\"color: #00af00; text-decoration-color: #00af00\">128</span> │\n",
       "│ (<span style=\"color: #0087ff; text-decoration-color: #0087ff\">BatchNormalization</span>)                 │                             │                 │\n",
       "├──────────────────────────────────────┼─────────────────────────────┼─────────────────┤\n",
       "│ dropout_1 (<span style=\"color: #0087ff; text-decoration-color: #0087ff\">Dropout</span>)                  │ (<span style=\"color: #00af00; text-decoration-color: #00af00\">128</span>, <span style=\"color: #00af00; text-decoration-color: #00af00\">32</span>)                   │               <span style=\"color: #00af00; text-decoration-color: #00af00\">0</span> │\n",
       "├──────────────────────────────────────┼─────────────────────────────┼─────────────────┤\n",
       "│ dense_2 (<span style=\"color: #0087ff; text-decoration-color: #0087ff\">Dense</span>)                      │ (<span style=\"color: #00af00; text-decoration-color: #00af00\">128</span>, <span style=\"color: #00af00; text-decoration-color: #00af00\">5</span>)                    │             <span style=\"color: #00af00; text-decoration-color: #00af00\">165</span> │\n",
       "└──────────────────────────────────────┴─────────────────────────────┴─────────────────┘\n",
       "</pre>\n"
      ],
      "text/plain": [
       "┏━━━━━━━━━━━━━━━━━━━━━━━━━━━━━━━━━━━━━━┳━━━━━━━━━━━━━━━━━━━━━━━━━━━━━┳━━━━━━━━━━━━━━━━━┓\n",
       "┃\u001b[1m \u001b[0m\u001b[1mLayer (type)                        \u001b[0m\u001b[1m \u001b[0m┃\u001b[1m \u001b[0m\u001b[1mOutput Shape               \u001b[0m\u001b[1m \u001b[0m┃\u001b[1m \u001b[0m\u001b[1m        Param #\u001b[0m\u001b[1m \u001b[0m┃\n",
       "┡━━━━━━━━━━━━━━━━━━━━━━━━━━━━━━━━━━━━━━╇━━━━━━━━━━━━━━━━━━━━━━━━━━━━━╇━━━━━━━━━━━━━━━━━┩\n",
       "│ embedding (\u001b[38;5;33mEmbedding\u001b[0m)                │ (\u001b[38;5;34m128\u001b[0m, \u001b[38;5;34m135\u001b[0m, \u001b[38;5;34m50\u001b[0m)              │           \u001b[38;5;34m5,000\u001b[0m │\n",
       "├──────────────────────────────────────┼─────────────────────────────┼─────────────────┤\n",
       "│ flatten (\u001b[38;5;33mFlatten\u001b[0m)                    │ (\u001b[38;5;34m128\u001b[0m, \u001b[38;5;34m6750\u001b[0m)                 │               \u001b[38;5;34m0\u001b[0m │\n",
       "├──────────────────────────────────────┼─────────────────────────────┼─────────────────┤\n",
       "│ dense (\u001b[38;5;33mDense\u001b[0m)                        │ (\u001b[38;5;34m128\u001b[0m, \u001b[38;5;34m64\u001b[0m)                   │         \u001b[38;5;34m432,064\u001b[0m │\n",
       "├──────────────────────────────────────┼─────────────────────────────┼─────────────────┤\n",
       "│ batch_normalization                  │ (\u001b[38;5;34m128\u001b[0m, \u001b[38;5;34m64\u001b[0m)                   │             \u001b[38;5;34m256\u001b[0m │\n",
       "│ (\u001b[38;5;33mBatchNormalization\u001b[0m)                 │                             │                 │\n",
       "├──────────────────────────────────────┼─────────────────────────────┼─────────────────┤\n",
       "│ dropout (\u001b[38;5;33mDropout\u001b[0m)                    │ (\u001b[38;5;34m128\u001b[0m, \u001b[38;5;34m64\u001b[0m)                   │               \u001b[38;5;34m0\u001b[0m │\n",
       "├──────────────────────────────────────┼─────────────────────────────┼─────────────────┤\n",
       "│ dense_1 (\u001b[38;5;33mDense\u001b[0m)                      │ (\u001b[38;5;34m128\u001b[0m, \u001b[38;5;34m32\u001b[0m)                   │           \u001b[38;5;34m2,080\u001b[0m │\n",
       "├──────────────────────────────────────┼─────────────────────────────┼─────────────────┤\n",
       "│ batch_normalization_1                │ (\u001b[38;5;34m128\u001b[0m, \u001b[38;5;34m32\u001b[0m)                   │             \u001b[38;5;34m128\u001b[0m │\n",
       "│ (\u001b[38;5;33mBatchNormalization\u001b[0m)                 │                             │                 │\n",
       "├──────────────────────────────────────┼─────────────────────────────┼─────────────────┤\n",
       "│ dropout_1 (\u001b[38;5;33mDropout\u001b[0m)                  │ (\u001b[38;5;34m128\u001b[0m, \u001b[38;5;34m32\u001b[0m)                   │               \u001b[38;5;34m0\u001b[0m │\n",
       "├──────────────────────────────────────┼─────────────────────────────┼─────────────────┤\n",
       "│ dense_2 (\u001b[38;5;33mDense\u001b[0m)                      │ (\u001b[38;5;34m128\u001b[0m, \u001b[38;5;34m5\u001b[0m)                    │             \u001b[38;5;34m165\u001b[0m │\n",
       "└──────────────────────────────────────┴─────────────────────────────┴─────────────────┘\n"
      ]
     },
     "metadata": {},
     "output_type": "display_data"
    },
    {
     "data": {
      "text/html": [
       "<pre style=\"white-space:pre;overflow-x:auto;line-height:normal;font-family:Menlo,'DejaVu Sans Mono',consolas,'Courier New',monospace\"><span style=\"font-weight: bold\"> Total params: </span><span style=\"color: #00af00; text-decoration-color: #00af00\">1,318,697</span> (5.03 MB)\n",
       "</pre>\n"
      ],
      "text/plain": [
       "\u001b[1m Total params: \u001b[0m\u001b[38;5;34m1,318,697\u001b[0m (5.03 MB)\n"
      ]
     },
     "metadata": {},
     "output_type": "display_data"
    },
    {
     "data": {
      "text/html": [
       "<pre style=\"white-space:pre;overflow-x:auto;line-height:normal;font-family:Menlo,'DejaVu Sans Mono',consolas,'Courier New',monospace\"><span style=\"font-weight: bold\"> Trainable params: </span><span style=\"color: #00af00; text-decoration-color: #00af00\">439,501</span> (1.68 MB)\n",
       "</pre>\n"
      ],
      "text/plain": [
       "\u001b[1m Trainable params: \u001b[0m\u001b[38;5;34m439,501\u001b[0m (1.68 MB)\n"
      ]
     },
     "metadata": {},
     "output_type": "display_data"
    },
    {
     "data": {
      "text/html": [
       "<pre style=\"white-space:pre;overflow-x:auto;line-height:normal;font-family:Menlo,'DejaVu Sans Mono',consolas,'Courier New',monospace\"><span style=\"font-weight: bold\"> Non-trainable params: </span><span style=\"color: #00af00; text-decoration-color: #00af00\">192</span> (768.00 B)\n",
       "</pre>\n"
      ],
      "text/plain": [
       "\u001b[1m Non-trainable params: \u001b[0m\u001b[38;5;34m192\u001b[0m (768.00 B)\n"
      ]
     },
     "metadata": {},
     "output_type": "display_data"
    },
    {
     "data": {
      "text/html": [
       "<pre style=\"white-space:pre;overflow-x:auto;line-height:normal;font-family:Menlo,'DejaVu Sans Mono',consolas,'Courier New',monospace\"><span style=\"font-weight: bold\"> Optimizer params: </span><span style=\"color: #00af00; text-decoration-color: #00af00\">879,004</span> (3.35 MB)\n",
       "</pre>\n"
      ],
      "text/plain": [
       "\u001b[1m Optimizer params: \u001b[0m\u001b[38;5;34m879,004\u001b[0m (3.35 MB)\n"
      ]
     },
     "metadata": {},
     "output_type": "display_data"
    }
   ],
   "source": [
    "model.summary()"
   ]
  },
  {
   "cell_type": "code",
   "execution_count": 27,
   "id": "5e7b4057-538a-4db7-a157-2db33e9d86ef",
   "metadata": {},
   "outputs": [
    {
     "name": "stdout",
     "output_type": "stream",
     "text": [
      "Epoch 1/10\n",
      "\u001b[1m50/50\u001b[0m \u001b[32m━━━━━━━━━━━━━━━━━━━━\u001b[0m\u001b[37m\u001b[0m \u001b[1m3s\u001b[0m 13ms/step - accuracy: 0.6753 - loss: 2.4634 - val_accuracy: 0.7000 - val_loss: 2.2861\n",
      "Epoch 2/10\n",
      "\u001b[1m50/50\u001b[0m \u001b[32m━━━━━━━━━━━━━━━━━━━━\u001b[0m\u001b[37m\u001b[0m \u001b[1m0s\u001b[0m 8ms/step - accuracy: 0.9694 - loss: 1.1875 - val_accuracy: 0.9906 - val_loss: 1.6180\n",
      "Epoch 3/10\n",
      "\u001b[1m50/50\u001b[0m \u001b[32m━━━━━━━━━━━━━━━━━━━━\u001b[0m\u001b[37m\u001b[0m \u001b[1m0s\u001b[0m 9ms/step - accuracy: 0.9874 - loss: 0.7225 - val_accuracy: 0.9912 - val_loss: 1.2803\n",
      "Epoch 4/10\n",
      "\u001b[1m50/50\u001b[0m \u001b[32m━━━━━━━━━━━━━━━━━━━━\u001b[0m\u001b[37m\u001b[0m \u001b[1m0s\u001b[0m 8ms/step - accuracy: 0.9938 - loss: 0.4653 - val_accuracy: 0.9681 - val_loss: 1.0447\n",
      "Epoch 5/10\n",
      "\u001b[1m50/50\u001b[0m \u001b[32m━━━━━━━━━━━━━━━━━━━━\u001b[0m\u001b[37m\u001b[0m \u001b[1m0s\u001b[0m 8ms/step - accuracy: 0.9973 - loss: 0.3129 - val_accuracy: 1.0000 - val_loss: 0.8495\n",
      "Epoch 6/10\n",
      "\u001b[1m50/50\u001b[0m \u001b[32m━━━━━━━━━━━━━━━━━━━━\u001b[0m\u001b[37m\u001b[0m \u001b[1m0s\u001b[0m 9ms/step - accuracy: 0.9965 - loss: 0.2160 - val_accuracy: 1.0000 - val_loss: 0.6657\n",
      "Epoch 7/10\n",
      "\u001b[1m50/50\u001b[0m \u001b[32m━━━━━━━━━━━━━━━━━━━━\u001b[0m\u001b[37m\u001b[0m \u001b[1m0s\u001b[0m 8ms/step - accuracy: 0.9957 - loss: 0.1552 - val_accuracy: 1.0000 - val_loss: 0.4314\n",
      "Epoch 8/10\n",
      "\u001b[1m50/50\u001b[0m \u001b[32m━━━━━━━━━━━━━━━━━━━━\u001b[0m\u001b[37m\u001b[0m \u001b[1m0s\u001b[0m 8ms/step - accuracy: 0.9998 - loss: 0.1094 - val_accuracy: 1.0000 - val_loss: 0.4176\n",
      "Epoch 9/10\n",
      "\u001b[1m50/50\u001b[0m \u001b[32m━━━━━━━━━━━━━━━━━━━━\u001b[0m\u001b[37m\u001b[0m \u001b[1m0s\u001b[0m 8ms/step - accuracy: 0.9989 - loss: 0.0800 - val_accuracy: 1.0000 - val_loss: 0.2411\n",
      "Epoch 10/10\n",
      "\u001b[1m50/50\u001b[0m \u001b[32m━━━━━━━━━━━━━━━━━━━━\u001b[0m\u001b[37m\u001b[0m \u001b[1m0s\u001b[0m 8ms/step - accuracy: 0.9977 - loss: 0.0717 - val_accuracy: 1.0000 - val_loss: 0.1120\n"
     ]
    }
   ],
   "source": [
    "history = model.fit(X_train, y_train,\n",
    "                    epochs=10,  # Adjust the number of epochs\n",
    "                    batch_size=128,  # Adjust the batch size\n",
    "                    validation_split=0.2)"
   ]
  },
  {
   "cell_type": "code",
   "execution_count": 28,
   "id": "b20f9cae-cf98-4628-a4c2-0bf246916648",
   "metadata": {},
   "outputs": [
    {
     "name": "stdout",
     "output_type": "stream",
     "text": [
      "\u001b[1m250/250\u001b[0m \u001b[32m━━━━━━━━━━━━━━━━━━━━\u001b[0m\u001b[37m\u001b[0m \u001b[1m1s\u001b[0m 2ms/step - accuracy: 1.0000 - loss: 0.1103\n",
      "\u001b[1m63/63\u001b[0m \u001b[32m━━━━━━━━━━━━━━━━━━━━\u001b[0m\u001b[37m\u001b[0m \u001b[1m0s\u001b[0m 2ms/step - accuracy: 1.0000 - loss: 0.1123\n",
      "Training Loss: 0.11096637696027756, Training Accuracy: 1.0\n",
      "Testing Loss: 0.11139015853404999, Testing Accuracy: 1.0\n"
     ]
    }
   ],
   "source": [
    "from sklearn.metrics import classification_report, confusion_matrix, accuracy_score\n",
    "\n",
    "train_loss, train_accuracy = model.evaluate(X_train, y_train)\n",
    "test_loss, test_accuracy = model.evaluate(X_test, y_test)\n",
    "\n",
    "print(f\"Training Loss: {train_loss}, Training Accuracy: {train_accuracy}\")\n",
    "print(f\"Testing Loss: {test_loss}, Testing Accuracy: {test_accuracy}\")"
   ]
  },
  {
   "cell_type": "code",
   "execution_count": 29,
   "id": "e811f9f1-f0be-4925-bd87-efe2d6cbc973",
   "metadata": {},
   "outputs": [
    {
     "name": "stdout",
     "output_type": "stream",
     "text": [
      "\u001b[1m63/63\u001b[0m \u001b[32m━━━━━━━━━━━━━━━━━━━━\u001b[0m\u001b[37m\u001b[0m \u001b[1m0s\u001b[0m 3ms/step\n",
      "Confusion Matrix:\n",
      "[[419   0   0   0   0]\n",
      " [  0 395   0   0   0]\n",
      " [  0   0 383   0   0]\n",
      " [  0   0   0 395   0]\n",
      " [  0   0   0   0 408]]\n",
      "\n",
      "Classification Report:\n",
      "Target names: ['Electronics', 'Furniture', 'Home Appliances', 'Personal Care', 'Sports & Outdoors']\n",
      "Encoded Label -> Actual Category\n",
      "0 -> Electronics\n",
      "1 -> Furniture\n",
      "2 -> Home Appliances\n",
      "3 -> Personal Care\n",
      "4 -> Sports & Outdoors\n",
      "                   precision    recall  f1-score   support\n",
      "\n",
      "      Electronics       1.00      1.00      1.00       419\n",
      "        Furniture       1.00      1.00      1.00       395\n",
      "  Home Appliances       1.00      1.00      1.00       383\n",
      "    Personal Care       1.00      1.00      1.00       395\n",
      "Sports & Outdoors       1.00      1.00      1.00       408\n",
      "\n",
      "         accuracy                           1.00      2000\n",
      "        macro avg       1.00      1.00      1.00      2000\n",
      "     weighted avg       1.00      1.00      1.00      2000\n",
      "\n"
     ]
    }
   ],
   "source": [
    "# Predict on the test set\n",
    "y_pred = model.predict(X_test)\n",
    "y_pred_classes = np.argmax(y_pred, axis=1)\n",
    "\n",
    "# Calculate evaluation metrics\n",
    "print(\"Confusion Matrix:\")\n",
    "print(confusion_matrix(y_test, y_pred_classes))\n",
    "\n",
    "print(\"\\nClassification Report:\")\n",
    "target_names = list(map(str, label_encoder.classes_))\n",
    "print(\"Target names:\", target_names)  # Debugging line to verify target names\n",
    "\n",
    "print(\"Encoded Label -> Actual Category\")\n",
    "for encoded_label in range(len(label_encoder.classes_)):\n",
    "    actual_category = label_encoder.inverse_transform([encoded_label])\n",
    "    print(f\"{encoded_label} -> {actual_category[0]}\")\n",
    "print(classification_report(y_test, y_pred_classes, target_names=target_names))"
   ]
  },
  {
   "cell_type": "code",
   "execution_count": 30,
   "id": "9df6c32c-1a7e-429d-a55f-701816068373",
   "metadata": {
    "scrolled": true
   },
   "outputs": [
    {
     "name": "stdout",
     "output_type": "stream",
     "text": [
      "Requirement already satisfied: nbconvert in d:\\programfiles\\miniconda\\lib\\site-packages (7.16.4)\n",
      "Requirement already satisfied: flake8 in d:\\programfiles\\miniconda\\lib\\site-packages (7.0.0)\n",
      "Requirement already satisfied: beautifulsoup4 in d:\\programfiles\\miniconda\\lib\\site-packages (from nbconvert) (4.12.3)\n",
      "Requirement already satisfied: bleach!=5.0.0 in d:\\programfiles\\miniconda\\lib\\site-packages (from nbconvert) (6.1.0)\n",
      "Requirement already satisfied: defusedxml in d:\\programfiles\\miniconda\\lib\\site-packages (from nbconvert) (0.7.1)\n",
      "Requirement already satisfied: jinja2>=3.0 in d:\\programfiles\\miniconda\\lib\\site-packages (from nbconvert) (3.1.4)\n",
      "Requirement already satisfied: jupyter-core>=4.7 in d:\\programfiles\\miniconda\\lib\\site-packages (from nbconvert) (5.7.2)\n",
      "Requirement already satisfied: jupyterlab-pygments in d:\\programfiles\\miniconda\\lib\\site-packages (from nbconvert) (0.3.0)\n",
      "Requirement already satisfied: markupsafe>=2.0 in d:\\programfiles\\miniconda\\lib\\site-packages (from nbconvert) (2.1.5)\n",
      "Requirement already satisfied: mistune<4,>=2.0.3 in d:\\programfiles\\miniconda\\lib\\site-packages (from nbconvert) (3.0.2)\n",
      "Requirement already satisfied: nbclient>=0.5.0 in d:\\programfiles\\miniconda\\lib\\site-packages (from nbconvert) (0.10.0)\n",
      "Requirement already satisfied: nbformat>=5.7 in d:\\programfiles\\miniconda\\lib\\site-packages (from nbconvert) (5.10.4)\n",
      "Requirement already satisfied: packaging in d:\\programfiles\\miniconda\\lib\\site-packages (from nbconvert) (23.2)\n",
      "Requirement already satisfied: pandocfilters>=1.4.1 in d:\\programfiles\\miniconda\\lib\\site-packages (from nbconvert) (1.5.1)\n",
      "Requirement already satisfied: pygments>=2.4.1 in d:\\programfiles\\miniconda\\lib\\site-packages (from nbconvert) (2.18.0)\n",
      "Requirement already satisfied: tinycss2 in d:\\programfiles\\miniconda\\lib\\site-packages (from nbconvert) (1.3.0)\n",
      "Requirement already satisfied: traitlets>=5.1 in d:\\programfiles\\miniconda\\lib\\site-packages (from nbconvert) (5.14.3)\n",
      "Requirement already satisfied: mccabe<0.8.0,>=0.7.0 in d:\\programfiles\\miniconda\\lib\\site-packages (from flake8) (0.7.0)\n",
      "Requirement already satisfied: pycodestyle<2.12.0,>=2.11.0 in d:\\programfiles\\miniconda\\lib\\site-packages (from flake8) (2.11.1)\n",
      "Requirement already satisfied: pyflakes<3.3.0,>=3.2.0 in d:\\programfiles\\miniconda\\lib\\site-packages (from flake8) (3.2.0)\n",
      "Requirement already satisfied: six>=1.9.0 in d:\\programfiles\\miniconda\\lib\\site-packages (from bleach!=5.0.0->nbconvert) (1.16.0)\n",
      "Requirement already satisfied: webencodings in d:\\programfiles\\miniconda\\lib\\site-packages (from bleach!=5.0.0->nbconvert) (0.5.1)\n",
      "Requirement already satisfied: platformdirs>=2.5 in d:\\programfiles\\miniconda\\lib\\site-packages (from jupyter-core>=4.7->nbconvert) (3.10.0)\n",
      "Requirement already satisfied: pywin32>=300 in d:\\programfiles\\miniconda\\lib\\site-packages (from jupyter-core>=4.7->nbconvert) (306)\n",
      "Requirement already satisfied: jupyter-client>=6.1.12 in d:\\programfiles\\miniconda\\lib\\site-packages (from nbclient>=0.5.0->nbconvert) (8.6.1)\n",
      "Requirement already satisfied: fastjsonschema>=2.15 in d:\\programfiles\\miniconda\\lib\\site-packages (from nbformat>=5.7->nbconvert) (2.19.1)\n",
      "Requirement already satisfied: jsonschema>=2.6 in d:\\programfiles\\miniconda\\lib\\site-packages (from nbformat>=5.7->nbconvert) (4.22.0)\n",
      "Requirement already satisfied: soupsieve>1.2 in d:\\programfiles\\miniconda\\lib\\site-packages (from beautifulsoup4->nbconvert) (2.5)\n",
      "Requirement already satisfied: attrs>=22.2.0 in d:\\programfiles\\miniconda\\lib\\site-packages (from jsonschema>=2.6->nbformat>=5.7->nbconvert) (23.2.0)\n",
      "Requirement already satisfied: jsonschema-specifications>=2023.03.6 in d:\\programfiles\\miniconda\\lib\\site-packages (from jsonschema>=2.6->nbformat>=5.7->nbconvert) (2023.12.1)\n",
      "Requirement already satisfied: referencing>=0.28.4 in d:\\programfiles\\miniconda\\lib\\site-packages (from jsonschema>=2.6->nbformat>=5.7->nbconvert) (0.35.1)\n",
      "Requirement already satisfied: rpds-py>=0.7.1 in d:\\programfiles\\miniconda\\lib\\site-packages (from jsonschema>=2.6->nbformat>=5.7->nbconvert) (0.18.1)\n",
      "Requirement already satisfied: python-dateutil>=2.8.2 in d:\\programfiles\\miniconda\\lib\\site-packages (from jupyter-client>=6.1.12->nbclient>=0.5.0->nbconvert) (2.9.0.post0)\n",
      "Requirement already satisfied: pyzmq>=23.0 in d:\\programfiles\\miniconda\\lib\\site-packages (from jupyter-client>=6.1.12->nbclient>=0.5.0->nbconvert) (26.0.3)\n",
      "Requirement already satisfied: tornado>=6.2 in d:\\programfiles\\miniconda\\lib\\site-packages (from jupyter-client>=6.1.12->nbclient>=0.5.0->nbconvert) (6.4)\n"
     ]
    }
   ],
   "source": [
    "!pip install nbconvert flake8"
   ]
  },
  {
   "cell_type": "code",
   "execution_count": 31,
   "id": "1e77b36f-b47a-49d3-b8b8-3311fed8e6a6",
   "metadata": {},
   "outputs": [
    {
     "name": "stderr",
     "output_type": "stream",
     "text": [
      "[NbConvertApp] Converting notebook payever_task.ipynb to script\n",
      "[NbConvertApp] Writing 9306 bytes to payever_task.py\n"
     ]
    }
   ],
   "source": [
    "#!jupyter nbconvert --to script payever_task.ipynb"
   ]
  },
  {
   "cell_type": "code",
   "execution_count": 51,
   "id": "e6937a50-3205-480d-82f2-bd5e407204fe",
   "metadata": {},
   "outputs": [],
   "source": [
    "!flake8 payever_task.py"
   ]
  },
  {
   "cell_type": "code",
   "execution_count": 33,
   "id": "452dd737-d110-48a8-af37-a0e0314af51b",
   "metadata": {
    "scrolled": true
   },
   "outputs": [
    {
     "name": "stdout",
     "output_type": "stream",
     "text": [
      "Requirement already satisfied: pipreqs in d:\\programfiles\\miniconda\\lib\\site-packages (0.5.0)\n",
      "Requirement already satisfied: docopt==0.6.2 in d:\\programfiles\\miniconda\\lib\\site-packages (from pipreqs) (0.6.2)\n",
      "Requirement already satisfied: ipython==8.12.3 in d:\\programfiles\\miniconda\\lib\\site-packages (from pipreqs) (8.12.3)\n",
      "Requirement already satisfied: nbconvert<8.0.0,>=7.11.0 in d:\\programfiles\\miniconda\\lib\\site-packages (from pipreqs) (7.16.4)\n",
      "Requirement already satisfied: yarg==0.1.9 in d:\\programfiles\\miniconda\\lib\\site-packages (from pipreqs) (0.1.9)\n",
      "Requirement already satisfied: backcall in d:\\programfiles\\miniconda\\lib\\site-packages (from ipython==8.12.3->pipreqs) (0.2.0)\n",
      "Requirement already satisfied: decorator in d:\\programfiles\\miniconda\\lib\\site-packages (from ipython==8.12.3->pipreqs) (5.1.1)\n",
      "Requirement already satisfied: jedi>=0.16 in d:\\programfiles\\miniconda\\lib\\site-packages (from ipython==8.12.3->pipreqs) (0.19.1)\n",
      "Requirement already satisfied: matplotlib-inline in d:\\programfiles\\miniconda\\lib\\site-packages (from ipython==8.12.3->pipreqs) (0.1.7)\n",
      "Requirement already satisfied: pickleshare in d:\\programfiles\\miniconda\\lib\\site-packages (from ipython==8.12.3->pipreqs) (0.7.5)\n",
      "Requirement already satisfied: prompt-toolkit!=3.0.37,<3.1.0,>=3.0.30 in d:\\programfiles\\miniconda\\lib\\site-packages (from ipython==8.12.3->pipreqs) (3.0.43)\n",
      "Requirement already satisfied: pygments>=2.4.0 in d:\\programfiles\\miniconda\\lib\\site-packages (from ipython==8.12.3->pipreqs) (2.18.0)\n",
      "Requirement already satisfied: stack-data in d:\\programfiles\\miniconda\\lib\\site-packages (from ipython==8.12.3->pipreqs) (0.6.3)\n",
      "Requirement already satisfied: traitlets>=5 in d:\\programfiles\\miniconda\\lib\\site-packages (from ipython==8.12.3->pipreqs) (5.14.3)\n",
      "Requirement already satisfied: colorama in d:\\programfiles\\miniconda\\lib\\site-packages (from ipython==8.12.3->pipreqs) (0.4.6)\n",
      "Requirement already satisfied: requests in d:\\programfiles\\miniconda\\lib\\site-packages (from yarg==0.1.9->pipreqs) (2.31.0)\n",
      "Requirement already satisfied: beautifulsoup4 in d:\\programfiles\\miniconda\\lib\\site-packages (from nbconvert<8.0.0,>=7.11.0->pipreqs) (4.12.3)\n",
      "Requirement already satisfied: bleach!=5.0.0 in d:\\programfiles\\miniconda\\lib\\site-packages (from nbconvert<8.0.0,>=7.11.0->pipreqs) (6.1.0)\n",
      "Requirement already satisfied: defusedxml in d:\\programfiles\\miniconda\\lib\\site-packages (from nbconvert<8.0.0,>=7.11.0->pipreqs) (0.7.1)\n",
      "Requirement already satisfied: jinja2>=3.0 in d:\\programfiles\\miniconda\\lib\\site-packages (from nbconvert<8.0.0,>=7.11.0->pipreqs) (3.1.4)\n",
      "Requirement already satisfied: jupyter-core>=4.7 in d:\\programfiles\\miniconda\\lib\\site-packages (from nbconvert<8.0.0,>=7.11.0->pipreqs) (5.7.2)\n",
      "Requirement already satisfied: jupyterlab-pygments in d:\\programfiles\\miniconda\\lib\\site-packages (from nbconvert<8.0.0,>=7.11.0->pipreqs) (0.3.0)\n",
      "Requirement already satisfied: markupsafe>=2.0 in d:\\programfiles\\miniconda\\lib\\site-packages (from nbconvert<8.0.0,>=7.11.0->pipreqs) (2.1.5)\n",
      "Requirement already satisfied: mistune<4,>=2.0.3 in d:\\programfiles\\miniconda\\lib\\site-packages (from nbconvert<8.0.0,>=7.11.0->pipreqs) (3.0.2)\n",
      "Requirement already satisfied: nbclient>=0.5.0 in d:\\programfiles\\miniconda\\lib\\site-packages (from nbconvert<8.0.0,>=7.11.0->pipreqs) (0.10.0)\n",
      "Requirement already satisfied: nbformat>=5.7 in d:\\programfiles\\miniconda\\lib\\site-packages (from nbconvert<8.0.0,>=7.11.0->pipreqs) (5.10.4)\n",
      "Requirement already satisfied: packaging in d:\\programfiles\\miniconda\\lib\\site-packages (from nbconvert<8.0.0,>=7.11.0->pipreqs) (23.2)\n",
      "Requirement already satisfied: pandocfilters>=1.4.1 in d:\\programfiles\\miniconda\\lib\\site-packages (from nbconvert<8.0.0,>=7.11.0->pipreqs) (1.5.1)\n",
      "Requirement already satisfied: tinycss2 in d:\\programfiles\\miniconda\\lib\\site-packages (from nbconvert<8.0.0,>=7.11.0->pipreqs) (1.3.0)\n",
      "Requirement already satisfied: six>=1.9.0 in d:\\programfiles\\miniconda\\lib\\site-packages (from bleach!=5.0.0->nbconvert<8.0.0,>=7.11.0->pipreqs) (1.16.0)\n",
      "Requirement already satisfied: webencodings in d:\\programfiles\\miniconda\\lib\\site-packages (from bleach!=5.0.0->nbconvert<8.0.0,>=7.11.0->pipreqs) (0.5.1)\n",
      "Requirement already satisfied: parso<0.9.0,>=0.8.3 in d:\\programfiles\\miniconda\\lib\\site-packages (from jedi>=0.16->ipython==8.12.3->pipreqs) (0.8.4)\n",
      "Requirement already satisfied: platformdirs>=2.5 in d:\\programfiles\\miniconda\\lib\\site-packages (from jupyter-core>=4.7->nbconvert<8.0.0,>=7.11.0->pipreqs) (3.10.0)\n",
      "Requirement already satisfied: pywin32>=300 in d:\\programfiles\\miniconda\\lib\\site-packages (from jupyter-core>=4.7->nbconvert<8.0.0,>=7.11.0->pipreqs) (306)\n",
      "Requirement already satisfied: jupyter-client>=6.1.12 in d:\\programfiles\\miniconda\\lib\\site-packages (from nbclient>=0.5.0->nbconvert<8.0.0,>=7.11.0->pipreqs) (8.6.1)\n",
      "Requirement already satisfied: fastjsonschema>=2.15 in d:\\programfiles\\miniconda\\lib\\site-packages (from nbformat>=5.7->nbconvert<8.0.0,>=7.11.0->pipreqs) (2.19.1)\n",
      "Requirement already satisfied: jsonschema>=2.6 in d:\\programfiles\\miniconda\\lib\\site-packages (from nbformat>=5.7->nbconvert<8.0.0,>=7.11.0->pipreqs) (4.22.0)\n",
      "Requirement already satisfied: wcwidth in d:\\programfiles\\miniconda\\lib\\site-packages (from prompt-toolkit!=3.0.37,<3.1.0,>=3.0.30->ipython==8.12.3->pipreqs) (0.2.13)\n",
      "Requirement already satisfied: soupsieve>1.2 in d:\\programfiles\\miniconda\\lib\\site-packages (from beautifulsoup4->nbconvert<8.0.0,>=7.11.0->pipreqs) (2.5)\n",
      "Requirement already satisfied: charset-normalizer<4,>=2 in d:\\programfiles\\miniconda\\lib\\site-packages (from requests->yarg==0.1.9->pipreqs) (2.0.4)\n",
      "Requirement already satisfied: idna<4,>=2.5 in d:\\programfiles\\miniconda\\lib\\site-packages (from requests->yarg==0.1.9->pipreqs) (3.4)\n",
      "Requirement already satisfied: urllib3<3,>=1.21.1 in d:\\programfiles\\miniconda\\lib\\site-packages (from requests->yarg==0.1.9->pipreqs) (2.1.0)\n",
      "Requirement already satisfied: certifi>=2017.4.17 in d:\\programfiles\\miniconda\\lib\\site-packages (from requests->yarg==0.1.9->pipreqs) (2024.2.2)\n",
      "Requirement already satisfied: executing>=1.2.0 in d:\\programfiles\\miniconda\\lib\\site-packages (from stack-data->ipython==8.12.3->pipreqs) (2.0.1)\n",
      "Requirement already satisfied: asttokens>=2.1.0 in d:\\programfiles\\miniconda\\lib\\site-packages (from stack-data->ipython==8.12.3->pipreqs) (2.4.1)\n",
      "Requirement already satisfied: pure-eval in d:\\programfiles\\miniconda\\lib\\site-packages (from stack-data->ipython==8.12.3->pipreqs) (0.2.2)\n",
      "Requirement already satisfied: attrs>=22.2.0 in d:\\programfiles\\miniconda\\lib\\site-packages (from jsonschema>=2.6->nbformat>=5.7->nbconvert<8.0.0,>=7.11.0->pipreqs) (23.2.0)\n",
      "Requirement already satisfied: jsonschema-specifications>=2023.03.6 in d:\\programfiles\\miniconda\\lib\\site-packages (from jsonschema>=2.6->nbformat>=5.7->nbconvert<8.0.0,>=7.11.0->pipreqs) (2023.12.1)\n",
      "Requirement already satisfied: referencing>=0.28.4 in d:\\programfiles\\miniconda\\lib\\site-packages (from jsonschema>=2.6->nbformat>=5.7->nbconvert<8.0.0,>=7.11.0->pipreqs) (0.35.1)\n",
      "Requirement already satisfied: rpds-py>=0.7.1 in d:\\programfiles\\miniconda\\lib\\site-packages (from jsonschema>=2.6->nbformat>=5.7->nbconvert<8.0.0,>=7.11.0->pipreqs) (0.18.1)\n",
      "Requirement already satisfied: python-dateutil>=2.8.2 in d:\\programfiles\\miniconda\\lib\\site-packages (from jupyter-client>=6.1.12->nbclient>=0.5.0->nbconvert<8.0.0,>=7.11.0->pipreqs) (2.9.0.post0)\n",
      "Requirement already satisfied: pyzmq>=23.0 in d:\\programfiles\\miniconda\\lib\\site-packages (from jupyter-client>=6.1.12->nbclient>=0.5.0->nbconvert<8.0.0,>=7.11.0->pipreqs) (26.0.3)\n",
      "Requirement already satisfied: tornado>=6.2 in d:\\programfiles\\miniconda\\lib\\site-packages (from jupyter-client>=6.1.12->nbclient>=0.5.0->nbconvert<8.0.0,>=7.11.0->pipreqs) (6.4)\n"
     ]
    }
   ],
   "source": [
    "!pip install pipreqs"
   ]
  },
  {
   "cell_type": "code",
   "execution_count": 7,
   "id": "85269202-29f4-40e1-ad66-5c5293fd0f93",
   "metadata": {},
   "outputs": [
    {
     "name": "stderr",
     "output_type": "stream",
     "text": [
      "INFO: Not scanning for jupyter notebooks.\n",
      "INFO: Successfully saved requirements file in .\\requirements.txt\n"
     ]
    }
   ],
   "source": [
    "!pipreqs . --use-local"
   ]
  },
  {
   "cell_type": "code",
   "execution_count": null,
   "id": "f29fc633-4079-4139-b09d-5ae02c18033d",
   "metadata": {},
   "outputs": [],
   "source": []
  }
 ],
 "metadata": {
  "kernelspec": {
   "display_name": "Python 3 (ipykernel)",
   "language": "python",
   "name": "python3"
  },
  "language_info": {
   "codemirror_mode": {
    "name": "ipython",
    "version": 3
   },
   "file_extension": ".py",
   "mimetype": "text/x-python",
   "name": "python",
   "nbconvert_exporter": "python",
   "pygments_lexer": "ipython3",
   "version": "3.12.2"
  }
 },
 "nbformat": 4,
 "nbformat_minor": 5
}
